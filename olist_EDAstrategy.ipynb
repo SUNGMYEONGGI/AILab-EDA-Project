{
 "cells": [
  {
   "cell_type": "code",
   "execution_count": 1,
   "metadata": {},
   "outputs": [],
   "source": [
    "import pandas as pd\n",
    "\n",
    "data = './data'\n",
    "closed_deals_data = data + '/olist_closed_deals_dataset.csv'\n",
    "customers_data = data + '/olist_customers_dataset.csv'\n",
    "geolocation_data = data + '/olist_geolocation_dataset.csv'\n",
    "marketing_qualified_leads_data = data + '/olist_marketing_qualified_leads_dataset.csv'\n",
    "order_items_data = data + '/olist_order_items_dataset.csv'\n",
    "order_payments_data = data + '/olist_order_payments_dataset.csv'\n",
    "order_reviews_data = data + '/olist_order_reviews_dataset.csv'\n",
    "orders_data = data + '/olist_orders_dataset.csv'\n",
    "products_data = data + '/olist_products_dataset.csv'\n",
    "sellers_data = data + '/olist_sellers_dataset.csv'\n",
    "product_category_name_translation_data = data + '/product_category_name_translation.csv'"
   ]
  },
  {
   "cell_type": "code",
   "execution_count": 2,
   "metadata": {},
   "outputs": [],
   "source": [
    "closed_deals_data = pd.read_csv(closed_deals_data)\n",
    "customers_data = pd.read_csv(customers_data)\n",
    "geolocation_data = pd.read_csv(geolocation_data)\n",
    "marketing_qualified_leads_data = pd.read_csv(marketing_qualified_leads_data)\n",
    "order_items_data = pd.read_csv(order_items_data)\n",
    "order_payments_data = pd.read_csv(order_payments_data)\n",
    "order_reviews_data = pd.read_csv(order_reviews_data)\n",
    "orders_data = pd.read_csv(orders_data)\n",
    "products_data = pd.read_csv(products_data)\n",
    "sellers_data = pd.read_csv(sellers_data)\n",
    "product_category_name_translation_data = pd.read_csv(product_category_name_translation_data)"
   ]
  },
  {
   "cell_type": "code",
   "execution_count": null,
   "metadata": {},
   "outputs": [],
   "source": [
    "# 재구매 count가 5이상 데이터만 추출\n",
    "repeat_customer_count = repeat_customer_data[(repeat_customer_data['order_count'] >= 5)]\n",
    "repeat_customer_count"
   ]
  },
  {
   "cell_type": "code",
   "execution_count": null,
   "metadata": {},
   "outputs": [],
   "source": [
    "# 거래기록 전부추출\n",
    "repeat_customer_data = olist_data[olist_data['customer_unique_id'].isin(repeat_customer_count['customer_unique_id'])]\n",
    "repeat_customer_data"
   ]
  },
  {
   "cell_type": "code",
   "execution_count": null,
   "metadata": {},
   "outputs": [],
   "source": [
    "repeat_customer_data['order_purchase_timestamp'] = pd.to_datetime(repeat_customer_data['order_purchase_timestamp'])\n",
    "repeat_customer_data['order_purchase_hour'] = repeat_customer_data['order_purchase_timestamp'].dt.hour\n",
    "\n",
    "# repeat_customer_data는 데이터 프레임으로 주문 구매 시간 정보를 포함하고 있다고 가정\n",
    "\n",
    "fig = go.Figure()\n",
    "\n",
    "# 주문 구매 시간에 대한 막대 그래프 생성\n",
    "fig.add_trace(go.Bar(\n",
    "    x=repeat_customer_data['order_purchase_hour'].value_counts().index,\n",
    "    y=repeat_customer_data['order_purchase_hour'].value_counts().values,\n",
    "    marker_color=px.colors.qualitative.Plotly\n",
    "))\n",
    "\n",
    "# 레이아웃 설정\n",
    "fig.update_layout(\n",
    "    title='재구매 고객의 구매 시간대 분포',\n",
    "    xaxis_title='구매 시간',\n",
    "    yaxis_title='수량'\n",
    ")\n",
    "\n",
    "# 그래프 출력\n",
    "fig.show()"
   ]
  },
  {
   "cell_type": "code",
   "execution_count": 8,
   "metadata": {},
   "outputs": [
    {
     "name": "stdout",
     "output_type": "stream",
     "text": [
      "Empty DataFrame\n",
      "Columns: [seller_id, count]\n",
      "Index: []\n"
     ]
    }
   ],
   "source": [
    "# 낮 시간(9시~17시)에 거래된 카테고리를 분석\n",
    "daytime_data = repeat_customer_data[(repeat_customer_data['order_purchase_hour'] >= 9) & (repeat_customer_data['order_purchase_hour'] <= 17)]\n",
    "daytime_category_count = daytime_data['product_category_name'].value_counts().reset_index()\n",
    "daytime_category_count = daytime_category_count.rename(columns={'index': 'product_category_name', 'product_category_name': 'product_category_name'})\n",
    "daytime_category_count\n",
    "\n",
    "# 낮 시간(9시~17시)에 거래된 카테고리를 시각화\n",
    "fig = go.Figure()\n",
    "\n",
    "# 낮 시간에 거래된 카테고리에 대한 막대 그래프 생성\n",
    "fig.add_trace(go.Bar(\n",
    "    x=daytime_category_count['product_category_name'],\n",
    "    y=daytime_category_count['count'],\n",
    "    marker_color= px.colors.qualitative.Plotly\n",
    "))\n",
    "\n",
    "# 레이아웃 설정\n",
    "fig.update_layout(\n",
    "    title='낮 시간(9시~17시)에 거래된 카테고리 분포',\n",
    "    xaxis_title='카테고리',\n",
    "    yaxis_title='수량',\n",
    "    # 크기 조정\n",
    "    width=1600,\n",
    "    height=800\n",
    ")\n",
    "fig.show()"
   ]
  },
  {
   "cell_type": "code",
   "execution_count": null,
   "metadata": {},
   "outputs": [],
   "source": []
  }
 ],
 "metadata": {
  "kernelspec": {
   "display_name": "Python 3",
   "language": "python",
   "name": "python3"
  },
  "language_info": {
   "codemirror_mode": {
    "name": "ipython",
    "version": 3
   },
   "file_extension": ".py",
   "mimetype": "text/x-python",
   "name": "python",
   "nbconvert_exporter": "python",
   "pygments_lexer": "ipython3",
   "version": "3.9.1"
  }
 },
 "nbformat": 4,
 "nbformat_minor": 2
}
